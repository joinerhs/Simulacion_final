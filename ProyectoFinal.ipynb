{
  "nbformat": 4,
  "nbformat_minor": 0,
  "metadata": {
    "colab": {
      "name": "ProyectoFinal.ipynb",
      "provenance": [],
      "collapsed_sections": []
    },
    "kernelspec": {
      "name": "python3",
      "display_name": "Python 3"
    }
  },
  "cells": [
    {
      "cell_type": "markdown",
      "metadata": {
        "id": "ztDuxE0ajlN0"
      },
      "source": [
        "# Dataset y conjuntos."
      ]
    },
    {
      "cell_type": "code",
      "metadata": {
        "id": "-d11WJs9iVd_"
      },
      "source": [
        "import numpy as np\r\n",
        "import pandas as pd\r\n",
        "from sklearn.model_selection import train_test_split \r\n",
        "# Dataset- dataframe\r\n",
        "#División en conjunto de entrenamiento y de test.\r\n",
        "url = 'https://raw.githubusercontent.com/joinerhs/Simulacion_final/master/SeoulBikeData.csv'  #En esta dirección está el dataset.\r\n",
        "\r\n",
        "df = pd.read_csv(url, encoding = \"ISO-8859-1\") \r\n",
        "\r\n",
        "train, test = train_test_split(df, test_size = 0.20)\r\n",
        "\r\n"
      ],
      "execution_count": 1,
      "outputs": []
    },
    {
      "cell_type": "markdown",
      "metadata": {
        "id": "jwb5qCW0jfip"
      },
      "source": [
        "# Imports"
      ]
    },
    {
      "cell_type": "code",
      "metadata": {
        "id": "_V4W8-3Poann"
      },
      "source": [
        "#Imports.\r\n",
        "import numpy as np\r\n",
        "import pandas as pd\r\n",
        "import datetime\r\n",
        "import random\r\n",
        "import matplotlib.pyplot as plt\r\n",
        "import seaborn as sns\r\n",
        "from scipy.stats import skew, norm\r\n",
        "from scipy.special import boxcox1p\r\n",
        "from scipy.stats import boxcox_normmax\r\n",
        "from sklearn.model_selection import GridSearchCV\r\n",
        "from sklearn.model_selection import KFold, cross_val_score\r\n",
        "from sklearn.metrics import mean_squared_error\r\n",
        "from sklearn.pipeline import make_pipeline\r\n",
        "from sklearn.preprocessing import StandardScaler\r\n",
        "from sklearn.preprocessing import RobustScaler\r\n",
        "from sklearn.preprocessing import scale\r\n",
        "from sklearn.model_selection import train_test_split \r\n",
        "from sklearn.decomposition import PCA\r\n",
        "\r\n",
        "pd.set_option('display.max_columns', None)\r\n",
        "# Ignore useless warnings\r\n",
        "import warnings\r\n",
        "warnings.filterwarnings(action=\"ignore\")\r\n"
      ],
      "execution_count": 2,
      "outputs": []
    },
    {
      "cell_type": "code",
      "metadata": {
        "id": "90P8h_XwxEnQ",
        "colab": {
          "base_uri": "https://localhost:8080/"
        },
        "outputId": "bcab5130-ef78-4b89-b03a-e883d7614ec6"
      },
      "source": [
        "train.shape, test.shape #Dimensiones de los conjuntos de entrenamiento y test."
      ],
      "execution_count": 3,
      "outputs": [
        {
          "output_type": "execute_result",
          "data": {
            "text/plain": [
              "((7008, 14), (1752, 14))"
            ]
          },
          "metadata": {
            "tags": []
          },
          "execution_count": 3
        }
      ]
    },
    {
      "cell_type": "code",
      "metadata": {
        "colab": {
          "base_uri": "https://localhost:8080/",
          "height": 553
        },
        "id": "PbKSFmRfZFhc",
        "outputId": "f27dd291-5672-4bb4-c1d5-5143b868bed7"
      },
      "source": [
        "train"
      ],
      "execution_count": 4,
      "outputs": [
        {
          "output_type": "execute_result",
          "data": {
            "text/html": [
              "<div>\n",
              "<style scoped>\n",
              "    .dataframe tbody tr th:only-of-type {\n",
              "        vertical-align: middle;\n",
              "    }\n",
              "\n",
              "    .dataframe tbody tr th {\n",
              "        vertical-align: top;\n",
              "    }\n",
              "\n",
              "    .dataframe thead th {\n",
              "        text-align: right;\n",
              "    }\n",
              "</style>\n",
              "<table border=\"1\" class=\"dataframe\">\n",
              "  <thead>\n",
              "    <tr style=\"text-align: right;\">\n",
              "      <th></th>\n",
              "      <th>Date</th>\n",
              "      <th>Rented Bike Count</th>\n",
              "      <th>Hour</th>\n",
              "      <th>Temperature(°C)</th>\n",
              "      <th>Humidity(%)</th>\n",
              "      <th>Wind speed (m/s)</th>\n",
              "      <th>Visibility (10m)</th>\n",
              "      <th>Dew point temperature(°C)</th>\n",
              "      <th>Solar Radiation (MJ/m2)</th>\n",
              "      <th>Rainfall(mm)</th>\n",
              "      <th>Snowfall (cm)</th>\n",
              "      <th>Seasons</th>\n",
              "      <th>Holiday</th>\n",
              "      <th>Functioning Day</th>\n",
              "    </tr>\n",
              "  </thead>\n",
              "  <tbody>\n",
              "    <tr>\n",
              "      <th>655</th>\n",
              "      <td>28/12/2017</td>\n",
              "      <td>257</td>\n",
              "      <td>7</td>\n",
              "      <td>-5.0</td>\n",
              "      <td>31</td>\n",
              "      <td>0.5</td>\n",
              "      <td>2000</td>\n",
              "      <td>-19.5</td>\n",
              "      <td>0.00</td>\n",
              "      <td>0.0</td>\n",
              "      <td>0.0</td>\n",
              "      <td>Winter</td>\n",
              "      <td>No Holiday</td>\n",
              "      <td>Yes</td>\n",
              "    </tr>\n",
              "    <tr>\n",
              "      <th>3724</th>\n",
              "      <td>05/05/2018</td>\n",
              "      <td>252</td>\n",
              "      <td>4</td>\n",
              "      <td>12.1</td>\n",
              "      <td>51</td>\n",
              "      <td>1.6</td>\n",
              "      <td>1939</td>\n",
              "      <td>2.2</td>\n",
              "      <td>0.00</td>\n",
              "      <td>0.0</td>\n",
              "      <td>0.0</td>\n",
              "      <td>Spring</td>\n",
              "      <td>No Holiday</td>\n",
              "      <td>Yes</td>\n",
              "    </tr>\n",
              "    <tr>\n",
              "      <th>52</th>\n",
              "      <td>03/12/2017</td>\n",
              "      <td>76</td>\n",
              "      <td>4</td>\n",
              "      <td>3.5</td>\n",
              "      <td>73</td>\n",
              "      <td>1.0</td>\n",
              "      <td>1060</td>\n",
              "      <td>-0.8</td>\n",
              "      <td>0.00</td>\n",
              "      <td>0.0</td>\n",
              "      <td>0.0</td>\n",
              "      <td>Winter</td>\n",
              "      <td>No Holiday</td>\n",
              "      <td>Yes</td>\n",
              "    </tr>\n",
              "    <tr>\n",
              "      <th>790</th>\n",
              "      <td>02/01/2018</td>\n",
              "      <td>273</td>\n",
              "      <td>22</td>\n",
              "      <td>-3.4</td>\n",
              "      <td>33</td>\n",
              "      <td>2.4</td>\n",
              "      <td>2000</td>\n",
              "      <td>-17.4</td>\n",
              "      <td>0.00</td>\n",
              "      <td>0.0</td>\n",
              "      <td>0.0</td>\n",
              "      <td>Winter</td>\n",
              "      <td>No Holiday</td>\n",
              "      <td>Yes</td>\n",
              "    </tr>\n",
              "    <tr>\n",
              "      <th>1928</th>\n",
              "      <td>19/02/2018</td>\n",
              "      <td>646</td>\n",
              "      <td>8</td>\n",
              "      <td>-1.2</td>\n",
              "      <td>51</td>\n",
              "      <td>0.8</td>\n",
              "      <td>1800</td>\n",
              "      <td>-10.0</td>\n",
              "      <td>0.05</td>\n",
              "      <td>0.0</td>\n",
              "      <td>0.0</td>\n",
              "      <td>Winter</td>\n",
              "      <td>No Holiday</td>\n",
              "      <td>Yes</td>\n",
              "    </tr>\n",
              "    <tr>\n",
              "      <th>...</th>\n",
              "      <td>...</td>\n",
              "      <td>...</td>\n",
              "      <td>...</td>\n",
              "      <td>...</td>\n",
              "      <td>...</td>\n",
              "      <td>...</td>\n",
              "      <td>...</td>\n",
              "      <td>...</td>\n",
              "      <td>...</td>\n",
              "      <td>...</td>\n",
              "      <td>...</td>\n",
              "      <td>...</td>\n",
              "      <td>...</td>\n",
              "      <td>...</td>\n",
              "    </tr>\n",
              "    <tr>\n",
              "      <th>1846</th>\n",
              "      <td>15/02/2018</td>\n",
              "      <td>145</td>\n",
              "      <td>22</td>\n",
              "      <td>-1.9</td>\n",
              "      <td>30</td>\n",
              "      <td>0.8</td>\n",
              "      <td>2000</td>\n",
              "      <td>-17.2</td>\n",
              "      <td>0.00</td>\n",
              "      <td>0.0</td>\n",
              "      <td>0.0</td>\n",
              "      <td>Winter</td>\n",
              "      <td>Holiday</td>\n",
              "      <td>Yes</td>\n",
              "    </tr>\n",
              "    <tr>\n",
              "      <th>2831</th>\n",
              "      <td>28/03/2018</td>\n",
              "      <td>614</td>\n",
              "      <td>23</td>\n",
              "      <td>13.5</td>\n",
              "      <td>74</td>\n",
              "      <td>1.2</td>\n",
              "      <td>603</td>\n",
              "      <td>8.9</td>\n",
              "      <td>0.00</td>\n",
              "      <td>0.0</td>\n",
              "      <td>0.0</td>\n",
              "      <td>Spring</td>\n",
              "      <td>No Holiday</td>\n",
              "      <td>Yes</td>\n",
              "    </tr>\n",
              "    <tr>\n",
              "      <th>1078</th>\n",
              "      <td>14/01/2018</td>\n",
              "      <td>196</td>\n",
              "      <td>22</td>\n",
              "      <td>2.8</td>\n",
              "      <td>60</td>\n",
              "      <td>0.6</td>\n",
              "      <td>829</td>\n",
              "      <td>-4.2</td>\n",
              "      <td>0.00</td>\n",
              "      <td>0.0</td>\n",
              "      <td>0.0</td>\n",
              "      <td>Winter</td>\n",
              "      <td>No Holiday</td>\n",
              "      <td>Yes</td>\n",
              "    </tr>\n",
              "    <tr>\n",
              "      <th>2550</th>\n",
              "      <td>17/03/2018</td>\n",
              "      <td>109</td>\n",
              "      <td>6</td>\n",
              "      <td>0.8</td>\n",
              "      <td>63</td>\n",
              "      <td>1.0</td>\n",
              "      <td>2000</td>\n",
              "      <td>-5.4</td>\n",
              "      <td>0.00</td>\n",
              "      <td>0.0</td>\n",
              "      <td>0.0</td>\n",
              "      <td>Spring</td>\n",
              "      <td>No Holiday</td>\n",
              "      <td>Yes</td>\n",
              "    </tr>\n",
              "    <tr>\n",
              "      <th>7553</th>\n",
              "      <td>11/10/2018</td>\n",
              "      <td>1685</td>\n",
              "      <td>17</td>\n",
              "      <td>13.2</td>\n",
              "      <td>36</td>\n",
              "      <td>3.6</td>\n",
              "      <td>2000</td>\n",
              "      <td>-1.5</td>\n",
              "      <td>0.55</td>\n",
              "      <td>0.0</td>\n",
              "      <td>0.0</td>\n",
              "      <td>Autumn</td>\n",
              "      <td>No Holiday</td>\n",
              "      <td>Yes</td>\n",
              "    </tr>\n",
              "  </tbody>\n",
              "</table>\n",
              "<p>7008 rows × 14 columns</p>\n",
              "</div>"
            ],
            "text/plain": [
              "            Date  Rented Bike Count  Hour  Temperature(°C)  Humidity(%)  \\\n",
              "655   28/12/2017                257     7             -5.0           31   \n",
              "3724  05/05/2018                252     4             12.1           51   \n",
              "52    03/12/2017                 76     4              3.5           73   \n",
              "790   02/01/2018                273    22             -3.4           33   \n",
              "1928  19/02/2018                646     8             -1.2           51   \n",
              "...          ...                ...   ...              ...          ...   \n",
              "1846  15/02/2018                145    22             -1.9           30   \n",
              "2831  28/03/2018                614    23             13.5           74   \n",
              "1078  14/01/2018                196    22              2.8           60   \n",
              "2550  17/03/2018                109     6              0.8           63   \n",
              "7553  11/10/2018               1685    17             13.2           36   \n",
              "\n",
              "      Wind speed (m/s)  Visibility (10m)  Dew point temperature(°C)  \\\n",
              "655                0.5              2000                      -19.5   \n",
              "3724               1.6              1939                        2.2   \n",
              "52                 1.0              1060                       -0.8   \n",
              "790                2.4              2000                      -17.4   \n",
              "1928               0.8              1800                      -10.0   \n",
              "...                ...               ...                        ...   \n",
              "1846               0.8              2000                      -17.2   \n",
              "2831               1.2               603                        8.9   \n",
              "1078               0.6               829                       -4.2   \n",
              "2550               1.0              2000                       -5.4   \n",
              "7553               3.6              2000                       -1.5   \n",
              "\n",
              "      Solar Radiation (MJ/m2)  Rainfall(mm)  Snowfall (cm) Seasons  \\\n",
              "655                      0.00           0.0            0.0  Winter   \n",
              "3724                     0.00           0.0            0.0  Spring   \n",
              "52                       0.00           0.0            0.0  Winter   \n",
              "790                      0.00           0.0            0.0  Winter   \n",
              "1928                     0.05           0.0            0.0  Winter   \n",
              "...                       ...           ...            ...     ...   \n",
              "1846                     0.00           0.0            0.0  Winter   \n",
              "2831                     0.00           0.0            0.0  Spring   \n",
              "1078                     0.00           0.0            0.0  Winter   \n",
              "2550                     0.00           0.0            0.0  Spring   \n",
              "7553                     0.55           0.0            0.0  Autumn   \n",
              "\n",
              "         Holiday Functioning Day  \n",
              "655   No Holiday             Yes  \n",
              "3724  No Holiday             Yes  \n",
              "52    No Holiday             Yes  \n",
              "790   No Holiday             Yes  \n",
              "1928  No Holiday             Yes  \n",
              "...          ...             ...  \n",
              "1846     Holiday             Yes  \n",
              "2831  No Holiday             Yes  \n",
              "1078  No Holiday             Yes  \n",
              "2550  No Holiday             Yes  \n",
              "7553  No Holiday             Yes  \n",
              "\n",
              "[7008 rows x 14 columns]"
            ]
          },
          "metadata": {
            "tags": []
          },
          "execution_count": 4
        }
      ]
    },
    {
      "cell_type": "markdown",
      "metadata": {
        "id": "Y-uL6AfQjVeI"
      },
      "source": [
        "## Preselección."
      ]
    },
    {
      "cell_type": "code",
      "metadata": {
        "colab": {
          "base_uri": "https://localhost:8080/",
          "height": 416
        },
        "id": "Zp56CwFtXh44",
        "outputId": "71acfd4b-a15e-45e0-c333-155c70bd321f"
      },
      "source": [
        "array = train.values\r\n",
        "labelencoder_X = LabelEncoder()\r\n",
        "array[:,10] = labelencoder_X.fit_transform(array[:,10])\r\n",
        "array[:,11] = labelencoder_X.fit_transform(array[:,11])\r\n",
        "array[:,12] = labelencoder_X.fit_transform(array[:,12])\r\n",
        "db = pd.DataFrame(array)\r\n",
        "db\r\n"
      ],
      "execution_count": null,
      "outputs": [
        {
          "output_type": "execute_result",
          "data": {
            "text/html": [
              "<div>\n",
              "<style scoped>\n",
              "    .dataframe tbody tr th:only-of-type {\n",
              "        vertical-align: middle;\n",
              "    }\n",
              "\n",
              "    .dataframe tbody tr th {\n",
              "        vertical-align: top;\n",
              "    }\n",
              "\n",
              "    .dataframe thead th {\n",
              "        text-align: right;\n",
              "    }\n",
              "</style>\n",
              "<table border=\"1\" class=\"dataframe\">\n",
              "  <thead>\n",
              "    <tr style=\"text-align: right;\">\n",
              "      <th></th>\n",
              "      <th>0</th>\n",
              "      <th>1</th>\n",
              "      <th>2</th>\n",
              "      <th>3</th>\n",
              "      <th>4</th>\n",
              "      <th>5</th>\n",
              "      <th>6</th>\n",
              "      <th>7</th>\n",
              "      <th>8</th>\n",
              "      <th>9</th>\n",
              "      <th>10</th>\n",
              "      <th>11</th>\n",
              "      <th>12</th>\n",
              "    </tr>\n",
              "  </thead>\n",
              "  <tbody>\n",
              "    <tr>\n",
              "      <th>0</th>\n",
              "      <td>1007</td>\n",
              "      <td>19</td>\n",
              "      <td>2.9</td>\n",
              "      <td>26</td>\n",
              "      <td>1.1</td>\n",
              "      <td>2000</td>\n",
              "      <td>-14.7</td>\n",
              "      <td>0</td>\n",
              "      <td>0</td>\n",
              "      <td>0</td>\n",
              "      <td>0</td>\n",
              "      <td>1</td>\n",
              "      <td>1</td>\n",
              "    </tr>\n",
              "    <tr>\n",
              "      <th>1</th>\n",
              "      <td>308</td>\n",
              "      <td>11</td>\n",
              "      <td>-0.7</td>\n",
              "      <td>45</td>\n",
              "      <td>1.5</td>\n",
              "      <td>1429</td>\n",
              "      <td>-11.1</td>\n",
              "      <td>0.76</td>\n",
              "      <td>0</td>\n",
              "      <td>0</td>\n",
              "      <td>3</td>\n",
              "      <td>1</td>\n",
              "      <td>1</td>\n",
              "    </tr>\n",
              "    <tr>\n",
              "      <th>2</th>\n",
              "      <td>1106</td>\n",
              "      <td>9</td>\n",
              "      <td>8.6</td>\n",
              "      <td>50</td>\n",
              "      <td>0.8</td>\n",
              "      <td>1785</td>\n",
              "      <td>-1.2</td>\n",
              "      <td>1.13</td>\n",
              "      <td>0</td>\n",
              "      <td>0</td>\n",
              "      <td>0</td>\n",
              "      <td>1</td>\n",
              "      <td>1</td>\n",
              "    </tr>\n",
              "    <tr>\n",
              "      <th>3</th>\n",
              "      <td>306</td>\n",
              "      <td>22</td>\n",
              "      <td>-3.6</td>\n",
              "      <td>46</td>\n",
              "      <td>1.3</td>\n",
              "      <td>1689</td>\n",
              "      <td>-13.5</td>\n",
              "      <td>0</td>\n",
              "      <td>0</td>\n",
              "      <td>0</td>\n",
              "      <td>3</td>\n",
              "      <td>1</td>\n",
              "      <td>1</td>\n",
              "    </tr>\n",
              "    <tr>\n",
              "      <th>4</th>\n",
              "      <td>188</td>\n",
              "      <td>8</td>\n",
              "      <td>5.1</td>\n",
              "      <td>83</td>\n",
              "      <td>0.9</td>\n",
              "      <td>297</td>\n",
              "      <td>2.4</td>\n",
              "      <td>0</td>\n",
              "      <td>0</td>\n",
              "      <td>0</td>\n",
              "      <td>3</td>\n",
              "      <td>1</td>\n",
              "      <td>1</td>\n",
              "    </tr>\n",
              "    <tr>\n",
              "      <th>...</th>\n",
              "      <td>...</td>\n",
              "      <td>...</td>\n",
              "      <td>...</td>\n",
              "      <td>...</td>\n",
              "      <td>...</td>\n",
              "      <td>...</td>\n",
              "      <td>...</td>\n",
              "      <td>...</td>\n",
              "      <td>...</td>\n",
              "      <td>...</td>\n",
              "      <td>...</td>\n",
              "      <td>...</td>\n",
              "      <td>...</td>\n",
              "    </tr>\n",
              "    <tr>\n",
              "      <th>7003</th>\n",
              "      <td>78</td>\n",
              "      <td>10</td>\n",
              "      <td>18.4</td>\n",
              "      <td>96</td>\n",
              "      <td>2</td>\n",
              "      <td>1124</td>\n",
              "      <td>17.7</td>\n",
              "      <td>0.32</td>\n",
              "      <td>1</td>\n",
              "      <td>0</td>\n",
              "      <td>0</td>\n",
              "      <td>1</td>\n",
              "      <td>1</td>\n",
              "    </tr>\n",
              "    <tr>\n",
              "      <th>7004</th>\n",
              "      <td>2092</td>\n",
              "      <td>18</td>\n",
              "      <td>36.2</td>\n",
              "      <td>45</td>\n",
              "      <td>2</td>\n",
              "      <td>2000</td>\n",
              "      <td>22.3</td>\n",
              "      <td>0.65</td>\n",
              "      <td>0</td>\n",
              "      <td>0</td>\n",
              "      <td>2</td>\n",
              "      <td>1</td>\n",
              "      <td>1</td>\n",
              "    </tr>\n",
              "    <tr>\n",
              "      <th>7005</th>\n",
              "      <td>1101</td>\n",
              "      <td>17</td>\n",
              "      <td>4.9</td>\n",
              "      <td>41</td>\n",
              "      <td>3.3</td>\n",
              "      <td>1985</td>\n",
              "      <td>-7.2</td>\n",
              "      <td>0.25</td>\n",
              "      <td>0</td>\n",
              "      <td>0</td>\n",
              "      <td>0</td>\n",
              "      <td>1</td>\n",
              "      <td>1</td>\n",
              "    </tr>\n",
              "    <tr>\n",
              "      <th>7006</th>\n",
              "      <td>938</td>\n",
              "      <td>13</td>\n",
              "      <td>29.4</td>\n",
              "      <td>42</td>\n",
              "      <td>1.7</td>\n",
              "      <td>689</td>\n",
              "      <td>15.1</td>\n",
              "      <td>3.1</td>\n",
              "      <td>0</td>\n",
              "      <td>0</td>\n",
              "      <td>2</td>\n",
              "      <td>1</td>\n",
              "      <td>1</td>\n",
              "    </tr>\n",
              "    <tr>\n",
              "      <th>7007</th>\n",
              "      <td>2266</td>\n",
              "      <td>17</td>\n",
              "      <td>27.4</td>\n",
              "      <td>44</td>\n",
              "      <td>1.7</td>\n",
              "      <td>2000</td>\n",
              "      <td>14</td>\n",
              "      <td>1.17</td>\n",
              "      <td>0</td>\n",
              "      <td>0</td>\n",
              "      <td>2</td>\n",
              "      <td>1</td>\n",
              "      <td>1</td>\n",
              "    </tr>\n",
              "  </tbody>\n",
              "</table>\n",
              "<p>7008 rows × 13 columns</p>\n",
              "</div>"
            ],
            "text/plain": [
              "        0   1     2   3    4     5     6     7  8  9  10 11 12\n",
              "0     1007  19   2.9  26  1.1  2000 -14.7     0  0  0  0  1  1\n",
              "1      308  11  -0.7  45  1.5  1429 -11.1  0.76  0  0  3  1  1\n",
              "2     1106   9   8.6  50  0.8  1785  -1.2  1.13  0  0  0  1  1\n",
              "3      306  22  -3.6  46  1.3  1689 -13.5     0  0  0  3  1  1\n",
              "4      188   8   5.1  83  0.9   297   2.4     0  0  0  3  1  1\n",
              "...    ...  ..   ...  ..  ...   ...   ...   ... .. .. .. .. ..\n",
              "7003    78  10  18.4  96    2  1124  17.7  0.32  1  0  0  1  1\n",
              "7004  2092  18  36.2  45    2  2000  22.3  0.65  0  0  2  1  1\n",
              "7005  1101  17   4.9  41  3.3  1985  -7.2  0.25  0  0  0  1  1\n",
              "7006   938  13  29.4  42  1.7   689  15.1   3.1  0  0  2  1  1\n",
              "7007  2266  17  27.4  44  1.7  2000    14  1.17  0  0  2  1  1\n",
              "\n",
              "[7008 rows x 13 columns]"
            ]
          },
          "metadata": {
            "tags": []
          },
          "execution_count": 77
        }
      ]
    },
    {
      "cell_type": "code",
      "metadata": {
        "colab": {
          "base_uri": "https://localhost:8080/"
        },
        "id": "niX0B07xiy5M",
        "outputId": "eb8e9718-884d-4c2d-d69e-e71eb73cbc7a"
      },
      "source": [
        "#Muestras\r\n",
        "db.values"
      ],
      "execution_count": null,
      "outputs": [
        {
          "output_type": "execute_result",
          "data": {
            "text/plain": [
              "array([[1007, 19, 2.9, ..., 0, 1, 1],\n",
              "       [308, 11, -0.7, ..., 3, 1, 1],\n",
              "       [1106, 9, 8.6, ..., 0, 1, 1],\n",
              "       ...,\n",
              "       [1101, 17, 4.9, ..., 0, 1, 1],\n",
              "       [938, 13, 29.4, ..., 2, 1, 1],\n",
              "       [2266, 17, 27.4, ..., 2, 1, 1]], dtype=object)"
            ]
          },
          "metadata": {
            "tags": []
          },
          "execution_count": 78
        }
      ]
    },
    {
      "cell_type": "code",
      "metadata": {
        "id": "FBCmnbPazi6P"
      },
      "source": [
        ""
      ],
      "execution_count": null,
      "outputs": []
    },
    {
      "cell_type": "code",
      "metadata": {
        "colab": {
          "base_uri": "https://localhost:8080/"
        },
        "id": "HZTnGkigi_wh",
        "outputId": "4a9c5053-14fb-40e0-cb38-bb712af7f5d1"
      },
      "source": [
        "#Información\r\n",
        "train.info()"
      ],
      "execution_count": null,
      "outputs": [
        {
          "output_type": "stream",
          "text": [
            "<class 'pandas.core.frame.DataFrame'>\n",
            "Int64Index: 7008 entries, 8587 to 5273\n",
            "Data columns (total 14 columns):\n",
            " #   Column                     Non-Null Count  Dtype  \n",
            "---  ------                     --------------  -----  \n",
            " 0   Date                       7008 non-null   object \n",
            " 1   Rented Bike Count          7008 non-null   int64  \n",
            " 2   Hour                       7008 non-null   int64  \n",
            " 3   Temperature(°C)            7008 non-null   float64\n",
            " 4   Humidity(%)                7008 non-null   int64  \n",
            " 5   Wind speed (m/s)           7008 non-null   float64\n",
            " 6   Visibility (10m)           7008 non-null   int64  \n",
            " 7   Dew point temperature(°C)  7008 non-null   float64\n",
            " 8   Solar Radiation (MJ/m2)    7008 non-null   float64\n",
            " 9   Rainfall(mm)               7008 non-null   float64\n",
            " 10  Snowfall (cm)              7008 non-null   float64\n",
            " 11  Seasons                    7008 non-null   object \n",
            " 12  Holiday                    7008 non-null   object \n",
            " 13  Functioning Day            7008 non-null   object \n",
            "dtypes: float64(6), int64(4), object(4)\n",
            "memory usage: 821.2+ KB\n"
          ],
          "name": "stdout"
        }
      ]
    },
    {
      "cell_type": "code",
      "metadata": {
        "colab": {
          "base_uri": "https://localhost:8080/"
        },
        "id": "Uw5DxYuIjIyH",
        "outputId": "2804beb6-f522-4515-c10a-abfb9cfb0df9"
      },
      "source": [
        "# Differentiate numerical features (minus the target) and categorical features\r\n",
        "# Categorical features\r\n",
        "categorical_features = train.select_dtypes(include=['object']).columns\r\n",
        "categorical_features"
      ],
      "execution_count": null,
      "outputs": [
        {
          "output_type": "execute_result",
          "data": {
            "text/plain": [
              "Index(['Date', 'Seasons', 'Holiday', 'Functioning Day'], dtype='object')"
            ]
          },
          "metadata": {
            "tags": []
          },
          "execution_count": 6
        }
      ]
    },
    {
      "cell_type": "code",
      "metadata": {
        "colab": {
          "base_uri": "https://localhost:8080/"
        },
        "id": "qv5jluW7jOTf",
        "outputId": "d4595d8d-a6e0-4440-bee3-e0ccea475782"
      },
      "source": [
        "# Numerical features\r\n",
        "numerical_features = train.select_dtypes(exclude = [\"object\"]).columns\r\n",
        "numerical_features"
      ],
      "execution_count": null,
      "outputs": [
        {
          "output_type": "execute_result",
          "data": {
            "text/plain": [
              "Index(['Rented Bike Count', 'Hour', 'Temperature(°C)', 'Humidity(%)',\n",
              "       'Wind speed (m/s)', 'Visibility (10m)', 'Dew point temperature(°C)',\n",
              "       'Solar Radiation (MJ/m2)', 'Rainfall(mm)', 'Snowfall (cm)'],\n",
              "      dtype='object')"
            ]
          },
          "metadata": {
            "tags": []
          },
          "execution_count": 7
        }
      ]
    },
    {
      "cell_type": "code",
      "metadata": {
        "colab": {
          "base_uri": "https://localhost:8080/"
        },
        "id": "wdoV3C-4jT3t",
        "outputId": "1c653f17-3bd6-49e5-caf8-c0410bd8a0bc"
      },
      "source": [
        "train['Rented Bike Count'].describe()"
      ],
      "execution_count": null,
      "outputs": [
        {
          "output_type": "execute_result",
          "data": {
            "text/plain": [
              "count    7008.000000\n",
              "mean      709.576056\n",
              "std       649.119603\n",
              "min         0.000000\n",
              "25%       190.000000\n",
              "50%       509.000000\n",
              "75%      1074.250000\n",
              "max      3418.000000\n",
              "Name: Rented Bike Count, dtype: float64"
            ]
          },
          "metadata": {
            "tags": []
          },
          "execution_count": 8
        }
      ]
    },
    {
      "cell_type": "markdown",
      "metadata": {
        "id": "erXqbgxOkJGb"
      },
      "source": [
        "*Hay un promedio de 705 bicicletas rentadas por hora.*"
      ]
    },
    {
      "cell_type": "code",
      "metadata": {
        "colab": {
          "base_uri": "https://localhost:8080/",
          "height": 404
        },
        "id": "y46B8ZohkCUQ",
        "outputId": "a885eb51-803a-4d2e-e506-136711228a59"
      },
      "source": [
        "sns.set_style('darkgrid')\r\n",
        "plt.subplots(figsize=(11, 6))\r\n",
        "sns.distplot(train['Rented Bike Count'], color=\"b\", fit=norm)\r\n",
        "(Mu, Sigma) = norm.fit(np.log1p(train[\"Rented Bike Count\"]))\r\n",
        "plt.title(\"Rented Bike Count Distribution\")\r\n",
        "plt.xlabel(\"Rented Bike Count Variable\")\r\n",
        "plt.legend(['Normal dist. ($\\mu=$ {:.2f} and $\\sigma=$ {:.2f} )'.format(Mu, Sigma)],\r\n",
        "            loc='best')\r\n",
        "plt.show()"
      ],
      "execution_count": null,
      "outputs": [
        {
          "output_type": "display_data",
          "data": {
            "image/png": "[encoded data removed]",
            "text/plain": [
              "<Figure size 792x432 with 1 Axes>"
            ]
          },
          "metadata": {
            "tags": []
          }
        }
      ]
    },
    {
      "cell_type": "code",
      "metadata": {
        "colab": {
          "base_uri": "https://localhost:8080/",
          "height": 666
        },
        "id": "CYf61ObxkfTm",
        "outputId": "d434d632-79d9-4ee3-952f-16c9aec7c8c2"
      },
      "source": [
        "#correlation matrix\r\n",
        "corrmat = train.corr()\r\n",
        "f, ax = plt.subplots(figsize=(20, 9))\r\n",
        "sns.heatmap(corrmat, vmax=.8, annot=True);"
      ],
      "execution_count": null,
      "outputs": [
        {
          "output_type": "display_data",
          "data": {
            "image/png": "[encoded data removed]",
            "text/plain": [
              "<Figure size 1440x648 with 2 Axes>"
            ]
          },
          "metadata": {
            "tags": []
          }
        }
      ]
    },
    {
      "cell_type": "markdown",
      "metadata": {
        "id": "ipnI4-HWCsOd"
      },
      "source": [
        " Podemos notar que hay una alta correlación entre la característica \"Dew point temperature\" y \"temperature\" con nuestra variable respuesta que es el número de bicicletas rentadas por hora, por ende son candidatas a descartar"
      ]
    },
    {
      "cell_type": "code",
      "metadata": {
        "colab": {
          "base_uri": "https://localhost:8080/",
          "height": 594
        },
        "id": "ZHK1rDyflD2D",
        "outputId": "3ea1de31-f6eb-4170-8be3-37d0703194b7"
      },
      "source": [
        "\r\n",
        "# most correlated features\r\n",
        "corrmat = train.corr()\r\n",
        "top_corr_features = corrmat.index[abs(corrmat[\"Rented Bike Count\"])>0.5]\r\n",
        "plt.figure(figsize=(10,10))\r\n",
        "g = sns.heatmap(train[top_corr_features].corr(),annot=True, cmap=\"BuPu\")"
      ],
      "execution_count": null,
      "outputs": [
        {
          "output_type": "display_data",
          "data": {
            "image/png": "[encoded data removed]",
            "text/plain": [
              "<Figure size 720x720 with 2 Axes>"
            ]
          },
          "metadata": {
            "tags": []
          }
        }
      ]
    },
    {
      "cell_type": "code",
      "metadata": {
        "colab": {
          "base_uri": "https://localhost:8080/",
          "height": 548
        },
        "id": "YobAqnj7leYN",
        "outputId": "1cb5d430-3c6d-4386-8d03-ba4355fd68a0"
      },
      "source": [
        "sns.set()\r\n",
        "cols = ['Rented Bike Count', 'Temperature(°C)', 'Dew point temperature(°C)']\r\n",
        "sns.pairplot(train[cols], size = 2.5)\r\n",
        "plt.show();"
      ],
      "execution_count": null,
      "outputs": [
        {
          "output_type": "display_data",
          "data": {
            "image/png": "[encoded data removed]",
            "text/plain": [
              "<Figure size 540x540 with 12 Axes>"
            ]
          },
          "metadata": {
            "tags": []
          }
        }
      ]
    },
    {
      "cell_type": "markdown",
      "metadata": {
        "id": "WUKgfWbsaV9O"
      },
      "source": [
        "## Acá corroboramos que no hay valores faltantes."
      ]
    },
    {
      "cell_type": "code",
      "metadata": {
        "colab": {
          "base_uri": "https://localhost:8080/",
          "height": 452
        },
        "id": "0QSjZMJkySLg",
        "outputId": "49b866c0-83fc-4271-89e3-d50db0f2cd96"
      },
      "source": [
        "# Missing values plot\r\n",
        "f, ax = plt.subplots(figsize=(8, 7))\r\n",
        "missing = round(train.isnull().mean()*100,2)\r\n",
        "missing = missing[missing > 0]\r\n",
        "missing.sort_values(inplace=True)\r\n",
        "ax.set(ylabel=\"Percent of missing values\")"
      ],
      "execution_count": null,
      "outputs": [
        {
          "output_type": "execute_result",
          "data": {
            "text/plain": [
              "[Text(0, 0.5, 'Percent of missing values')]"
            ]
          },
          "metadata": {
            "tags": []
          },
          "execution_count": 13
        },
        {
          "output_type": "display_data",
          "data": {
            "image/png": "[encoded data removed]",
            "text/plain": [
              "<Figure size 576x504 with 1 Axes>"
            ]
          },
          "metadata": {
            "tags": []
          }
        }
      ]
    },
    {
      "cell_type": "code",
      "metadata": {
        "colab": {
          "base_uri": "https://localhost:8080/"
        },
        "id": "DbuTYH3yzcGn",
        "outputId": "dc413def-c9d2-4081-fd4c-978fb51649e6"
      },
      "source": [
        "\r\n",
        "#Percent of missing values in test dataset\r\n",
        "\r\n",
        "testMV = test.isna().mean().round(4) * 100\r\n",
        "testMV.sort_values(ascending=False).head(20)"
      ],
      "execution_count": null,
      "outputs": [
        {
          "output_type": "execute_result",
          "data": {
            "text/plain": [
              "Functioning Day              0.0\n",
              "Holiday                      0.0\n",
              "Seasons                      0.0\n",
              "Snowfall (cm)                0.0\n",
              "Rainfall(mm)                 0.0\n",
              "Solar Radiation (MJ/m2)      0.0\n",
              "Dew point temperature(°C)    0.0\n",
              "Visibility (10m)             0.0\n",
              "Wind speed (m/s)             0.0\n",
              "Humidity(%)                  0.0\n",
              "Temperature(°C)              0.0\n",
              "Hour                         0.0\n",
              "Rented Bike Count            0.0\n",
              "Date                         0.0\n",
              "dtype: float64"
            ]
          },
          "metadata": {
            "tags": []
          },
          "execution_count": 14
        }
      ]
    },
    {
      "cell_type": "code",
      "metadata": {
        "colab": {
          "base_uri": "https://localhost:8080/",
          "height": 416
        },
        "id": "TgNYdwPTbzGO",
        "outputId": "4b819e76-76bc-44fc-a187-4550b18c7c0b"
      },
      "source": [
        "dataframe = pd.DataFrame(db)\r\n",
        "dataframe.columns = ['Rented Bike Count', 'Hour',\t'Temperature(°C)',\t'Humidity(%)'\t,'Wind speed (m/s)',\t'Visibility (10m)',\t'Dew point temperature(°C)',\t'Solar Radiation (MJ/m2)',\t'Rainfall(mm)',\t'Snowfall (cm)',\t'Seasons',\t'Holiday',\t'Functioning Day']\r\n",
        "dataframe"
      ],
      "execution_count": null,
      "outputs": [
        {
          "output_type": "execute_result",
          "data": {
            "text/html": [
              "<div>\n",
              "<style scoped>\n",
              "    .dataframe tbody tr th:only-of-type {\n",
              "        vertical-align: middle;\n",
              "    }\n",
              "\n",
              "    .dataframe tbody tr th {\n",
              "        vertical-align: top;\n",
              "    }\n",
              "\n",
              "    .dataframe thead th {\n",
              "        text-align: right;\n",
              "    }\n",
              "</style>\n",
              "<table border=\"1\" class=\"dataframe\">\n",
              "  <thead>\n",
              "    <tr style=\"text-align: right;\">\n",
              "      <th></th>\n",
              "      <th>Rented Bike Count</th>\n",
              "      <th>Hour</th>\n",
              "      <th>Temperature(°C)</th>\n",
              "      <th>Humidity(%)</th>\n",
              "      <th>Wind speed (m/s)</th>\n",
              "      <th>Visibility (10m)</th>\n",
              "      <th>Dew point temperature(°C)</th>\n",
              "      <th>Solar Radiation (MJ/m2)</th>\n",
              "      <th>Rainfall(mm)</th>\n",
              "      <th>Snowfall (cm)</th>\n",
              "      <th>Seasons</th>\n",
              "      <th>Holiday</th>\n",
              "      <th>Functioning Day</th>\n",
              "    </tr>\n",
              "  </thead>\n",
              "  <tbody>\n",
              "    <tr>\n",
              "      <th>0</th>\n",
              "      <td>1007</td>\n",
              "      <td>19</td>\n",
              "      <td>2.9</td>\n",
              "      <td>26</td>\n",
              "      <td>1.1</td>\n",
              "      <td>2000</td>\n",
              "      <td>-14.7</td>\n",
              "      <td>0</td>\n",
              "      <td>0</td>\n",
              "      <td>0</td>\n",
              "      <td>0</td>\n",
              "      <td>1</td>\n",
              "      <td>1</td>\n",
              "    </tr>\n",
              "    <tr>\n",
              "      <th>1</th>\n",
              "      <td>308</td>\n",
              "      <td>11</td>\n",
              "      <td>-0.7</td>\n",
              "      <td>45</td>\n",
              "      <td>1.5</td>\n",
              "      <td>1429</td>\n",
              "      <td>-11.1</td>\n",
              "      <td>0.76</td>\n",
              "      <td>0</td>\n",
              "      <td>0</td>\n",
              "      <td>3</td>\n",
              "      <td>1</td>\n",
              "      <td>1</td>\n",
              "    </tr>\n",
              "    <tr>\n",
              "      <th>2</th>\n",
              "      <td>1106</td>\n",
              "      <td>9</td>\n",
              "      <td>8.6</td>\n",
              "      <td>50</td>\n",
              "      <td>0.8</td>\n",
              "      <td>1785</td>\n",
              "      <td>-1.2</td>\n",
              "      <td>1.13</td>\n",
              "      <td>0</td>\n",
              "      <td>0</td>\n",
              "      <td>0</td>\n",
              "      <td>1</td>\n",
              "      <td>1</td>\n",
              "    </tr>\n",
              "    <tr>\n",
              "      <th>3</th>\n",
              "      <td>306</td>\n",
              "      <td>22</td>\n",
              "      <td>-3.6</td>\n",
              "      <td>46</td>\n",
              "      <td>1.3</td>\n",
              "      <td>1689</td>\n",
              "      <td>-13.5</td>\n",
              "      <td>0</td>\n",
              "      <td>0</td>\n",
              "      <td>0</td>\n",
              "      <td>3</td>\n",
              "      <td>1</td>\n",
              "      <td>1</td>\n",
              "    </tr>\n",
              "    <tr>\n",
              "      <th>4</th>\n",
              "      <td>188</td>\n",
              "      <td>8</td>\n",
              "      <td>5.1</td>\n",
              "      <td>83</td>\n",
              "      <td>0.9</td>\n",
              "      <td>297</td>\n",
              "      <td>2.4</td>\n",
              "      <td>0</td>\n",
              "      <td>0</td>\n",
              "      <td>0</td>\n",
              "      <td>3</td>\n",
              "      <td>1</td>\n",
              "      <td>1</td>\n",
              "    </tr>\n",
              "    <tr>\n",
              "      <th>...</th>\n",
              "      <td>...</td>\n",
              "      <td>...</td>\n",
              "      <td>...</td>\n",
              "      <td>...</td>\n",
              "      <td>...</td>\n",
              "      <td>...</td>\n",
              "      <td>...</td>\n",
              "      <td>...</td>\n",
              "      <td>...</td>\n",
              "      <td>...</td>\n",
              "      <td>...</td>\n",
              "      <td>...</td>\n",
              "      <td>...</td>\n",
              "    </tr>\n",
              "    <tr>\n",
              "      <th>7003</th>\n",
              "      <td>78</td>\n",
              "      <td>10</td>\n",
              "      <td>18.4</td>\n",
              "      <td>96</td>\n",
              "      <td>2</td>\n",
              "      <td>1124</td>\n",
              "      <td>17.7</td>\n",
              "      <td>0.32</td>\n",
              "      <td>1</td>\n",
              "      <td>0</td>\n",
              "      <td>0</td>\n",
              "      <td>1</td>\n",
              "      <td>1</td>\n",
              "    </tr>\n",
              "    <tr>\n",
              "      <th>7004</th>\n",
              "      <td>2092</td>\n",
              "      <td>18</td>\n",
              "      <td>36.2</td>\n",
              "      <td>45</td>\n",
              "      <td>2</td>\n",
              "      <td>2000</td>\n",
              "      <td>22.3</td>\n",
              "      <td>0.65</td>\n",
              "      <td>0</td>\n",
              "      <td>0</td>\n",
              "      <td>2</td>\n",
              "      <td>1</td>\n",
              "      <td>1</td>\n",
              "    </tr>\n",
              "    <tr>\n",
              "      <th>7005</th>\n",
              "      <td>1101</td>\n",
              "      <td>17</td>\n",
              "      <td>4.9</td>\n",
              "      <td>41</td>\n",
              "      <td>3.3</td>\n",
              "      <td>1985</td>\n",
              "      <td>-7.2</td>\n",
              "      <td>0.25</td>\n",
              "      <td>0</td>\n",
              "      <td>0</td>\n",
              "      <td>0</td>\n",
              "      <td>1</td>\n",
              "      <td>1</td>\n",
              "    </tr>\n",
              "    <tr>\n",
              "      <th>7006</th>\n",
              "      <td>938</td>\n",
              "      <td>13</td>\n",
              "      <td>29.4</td>\n",
              "      <td>42</td>\n",
              "      <td>1.7</td>\n",
              "      <td>689</td>\n",
              "      <td>15.1</td>\n",
              "      <td>3.1</td>\n",
              "      <td>0</td>\n",
              "      <td>0</td>\n",
              "      <td>2</td>\n",
              "      <td>1</td>\n",
              "      <td>1</td>\n",
              "    </tr>\n",
              "    <tr>\n",
              "      <th>7007</th>\n",
              "      <td>2266</td>\n",
              "      <td>17</td>\n",
              "      <td>27.4</td>\n",
              "      <td>44</td>\n",
              "      <td>1.7</td>\n",
              "      <td>2000</td>\n",
              "      <td>14</td>\n",
              "      <td>1.17</td>\n",
              "      <td>0</td>\n",
              "      <td>0</td>\n",
              "      <td>2</td>\n",
              "      <td>1</td>\n",
              "      <td>1</td>\n",
              "    </tr>\n",
              "  </tbody>\n",
              "</table>\n",
              "<p>7008 rows × 13 columns</p>\n",
              "</div>"
            ],
            "text/plain": [
              "     Rented Bike Count Hour Temperature(°C) Humidity(%) Wind speed (m/s)  \\\n",
              "0                 1007   19             2.9          26              1.1   \n",
              "1                  308   11            -0.7          45              1.5   \n",
              "2                 1106    9             8.6          50              0.8   \n",
              "3                  306   22            -3.6          46              1.3   \n",
              "4                  188    8             5.1          83              0.9   \n",
              "...                ...  ...             ...         ...              ...   \n",
              "7003                78   10            18.4          96                2   \n",
              "7004              2092   18            36.2          45                2   \n",
              "7005              1101   17             4.9          41              3.3   \n",
              "7006               938   13            29.4          42              1.7   \n",
              "7007              2266   17            27.4          44              1.7   \n",
              "\n",
              "     Visibility (10m) Dew point temperature(°C) Solar Radiation (MJ/m2)  \\\n",
              "0                2000                     -14.7                       0   \n",
              "1                1429                     -11.1                    0.76   \n",
              "2                1785                      -1.2                    1.13   \n",
              "3                1689                     -13.5                       0   \n",
              "4                 297                       2.4                       0   \n",
              "...               ...                       ...                     ...   \n",
              "7003             1124                      17.7                    0.32   \n",
              "7004             2000                      22.3                    0.65   \n",
              "7005             1985                      -7.2                    0.25   \n",
              "7006              689                      15.1                     3.1   \n",
              "7007             2000                        14                    1.17   \n",
              "\n",
              "     Rainfall(mm) Snowfall (cm) Seasons Holiday Functioning Day  \n",
              "0               0             0       0       1               1  \n",
              "1               0             0       3       1               1  \n",
              "2               0             0       0       1               1  \n",
              "3               0             0       3       1               1  \n",
              "4               0             0       3       1               1  \n",
              "...           ...           ...     ...     ...             ...  \n",
              "7003            1             0       0       1               1  \n",
              "7004            0             0       2       1               1  \n",
              "7005            0             0       0       1               1  \n",
              "7006            0             0       2       1               1  \n",
              "7007            0             0       2       1               1  \n",
              "\n",
              "[7008 rows x 13 columns]"
            ]
          },
          "metadata": {
            "tags": []
          },
          "execution_count": 96
        }
      ]
    },
    {
      "cell_type": "code",
      "metadata": {
        "colab": {
          "base_uri": "https://localhost:8080/",
          "height": 416
        },
        "id": "ntoVlOa-cx8b",
        "outputId": "375b3a19-1652-4b3c-bbc8-96d0e92d7101"
      },
      "source": [
        "db"
      ],
      "execution_count": null,
      "outputs": [
        {
          "output_type": "execute_result",
          "data": {
            "text/html": [
              "<div>\n",
              "<style scoped>\n",
              "    .dataframe tbody tr th:only-of-type {\n",
              "        vertical-align: middle;\n",
              "    }\n",
              "\n",
              "    .dataframe tbody tr th {\n",
              "        vertical-align: top;\n",
              "    }\n",
              "\n",
              "    .dataframe thead th {\n",
              "        text-align: right;\n",
              "    }\n",
              "</style>\n",
              "<table border=\"1\" class=\"dataframe\">\n",
              "  <thead>\n",
              "    <tr style=\"text-align: right;\">\n",
              "      <th></th>\n",
              "      <th>Rented Bike Count</th>\n",
              "      <th>Hour</th>\n",
              "      <th>Temperature(°C)</th>\n",
              "      <th>Humidity(%)</th>\n",
              "      <th>Wind speed (m/s)</th>\n",
              "      <th>Visibility (10m)</th>\n",
              "      <th>Dew point temperature(°C)</th>\n",
              "      <th>Solar Radiation (MJ/m2)</th>\n",
              "      <th>Rainfall(mm)</th>\n",
              "      <th>Snowfall (cm)</th>\n",
              "      <th>Seasons</th>\n",
              "      <th>Holiday</th>\n",
              "      <th>Functioning Day</th>\n",
              "    </tr>\n",
              "  </thead>\n",
              "  <tbody>\n",
              "    <tr>\n",
              "      <th>0</th>\n",
              "      <td>1007</td>\n",
              "      <td>19</td>\n",
              "      <td>2.9</td>\n",
              "      <td>26</td>\n",
              "      <td>1.1</td>\n",
              "      <td>2000</td>\n",
              "      <td>-14.7</td>\n",
              "      <td>0</td>\n",
              "      <td>0</td>\n",
              "      <td>0</td>\n",
              "      <td>0</td>\n",
              "      <td>1</td>\n",
              "      <td>1</td>\n",
              "    </tr>\n",
              "    <tr>\n",
              "      <th>1</th>\n",
              "      <td>308</td>\n",
              "      <td>11</td>\n",
              "      <td>-0.7</td>\n",
              "      <td>45</td>\n",
              "      <td>1.5</td>\n",
              "      <td>1429</td>\n",
              "      <td>-11.1</td>\n",
              "      <td>0.76</td>\n",
              "      <td>0</td>\n",
              "      <td>0</td>\n",
              "      <td>3</td>\n",
              "      <td>1</td>\n",
              "      <td>1</td>\n",
              "    </tr>\n",
              "    <tr>\n",
              "      <th>2</th>\n",
              "      <td>1106</td>\n",
              "      <td>9</td>\n",
              "      <td>8.6</td>\n",
              "      <td>50</td>\n",
              "      <td>0.8</td>\n",
              "      <td>1785</td>\n",
              "      <td>-1.2</td>\n",
              "      <td>1.13</td>\n",
              "      <td>0</td>\n",
              "      <td>0</td>\n",
              "      <td>0</td>\n",
              "      <td>1</td>\n",
              "      <td>1</td>\n",
              "    </tr>\n",
              "    <tr>\n",
              "      <th>3</th>\n",
              "      <td>306</td>\n",
              "      <td>22</td>\n",
              "      <td>-3.6</td>\n",
              "      <td>46</td>\n",
              "      <td>1.3</td>\n",
              "      <td>1689</td>\n",
              "      <td>-13.5</td>\n",
              "      <td>0</td>\n",
              "      <td>0</td>\n",
              "      <td>0</td>\n",
              "      <td>3</td>\n",
              "      <td>1</td>\n",
              "      <td>1</td>\n",
              "    </tr>\n",
              "    <tr>\n",
              "      <th>4</th>\n",
              "      <td>188</td>\n",
              "      <td>8</td>\n",
              "      <td>5.1</td>\n",
              "      <td>83</td>\n",
              "      <td>0.9</td>\n",
              "      <td>297</td>\n",
              "      <td>2.4</td>\n",
              "      <td>0</td>\n",
              "      <td>0</td>\n",
              "      <td>0</td>\n",
              "      <td>3</td>\n",
              "      <td>1</td>\n",
              "      <td>1</td>\n",
              "    </tr>\n",
              "    <tr>\n",
              "      <th>...</th>\n",
              "      <td>...</td>\n",
              "      <td>...</td>\n",
              "      <td>...</td>\n",
              "      <td>...</td>\n",
              "      <td>...</td>\n",
              "      <td>...</td>\n",
              "      <td>...</td>\n",
              "      <td>...</td>\n",
              "      <td>...</td>\n",
              "      <td>...</td>\n",
              "      <td>...</td>\n",
              "      <td>...</td>\n",
              "      <td>...</td>\n",
              "    </tr>\n",
              "    <tr>\n",
              "      <th>7003</th>\n",
              "      <td>78</td>\n",
              "      <td>10</td>\n",
              "      <td>18.4</td>\n",
              "      <td>96</td>\n",
              "      <td>2</td>\n",
              "      <td>1124</td>\n",
              "      <td>17.7</td>\n",
              "      <td>0.32</td>\n",
              "      <td>1</td>\n",
              "      <td>0</td>\n",
              "      <td>0</td>\n",
              "      <td>1</td>\n",
              "      <td>1</td>\n",
              "    </tr>\n",
              "    <tr>\n",
              "      <th>7004</th>\n",
              "      <td>2092</td>\n",
              "      <td>18</td>\n",
              "      <td>36.2</td>\n",
              "      <td>45</td>\n",
              "      <td>2</td>\n",
              "      <td>2000</td>\n",
              "      <td>22.3</td>\n",
              "      <td>0.65</td>\n",
              "      <td>0</td>\n",
              "      <td>0</td>\n",
              "      <td>2</td>\n",
              "      <td>1</td>\n",
              "      <td>1</td>\n",
              "    </tr>\n",
              "    <tr>\n",
              "      <th>7005</th>\n",
              "      <td>1101</td>\n",
              "      <td>17</td>\n",
              "      <td>4.9</td>\n",
              "      <td>41</td>\n",
              "      <td>3.3</td>\n",
              "      <td>1985</td>\n",
              "      <td>-7.2</td>\n",
              "      <td>0.25</td>\n",
              "      <td>0</td>\n",
              "      <td>0</td>\n",
              "      <td>0</td>\n",
              "      <td>1</td>\n",
              "      <td>1</td>\n",
              "    </tr>\n",
              "    <tr>\n",
              "      <th>7006</th>\n",
              "      <td>938</td>\n",
              "      <td>13</td>\n",
              "      <td>29.4</td>\n",
              "      <td>42</td>\n",
              "      <td>1.7</td>\n",
              "      <td>689</td>\n",
              "      <td>15.1</td>\n",
              "      <td>3.1</td>\n",
              "      <td>0</td>\n",
              "      <td>0</td>\n",
              "      <td>2</td>\n",
              "      <td>1</td>\n",
              "      <td>1</td>\n",
              "    </tr>\n",
              "    <tr>\n",
              "      <th>7007</th>\n",
              "      <td>2266</td>\n",
              "      <td>17</td>\n",
              "      <td>27.4</td>\n",
              "      <td>44</td>\n",
              "      <td>1.7</td>\n",
              "      <td>2000</td>\n",
              "      <td>14</td>\n",
              "      <td>1.17</td>\n",
              "      <td>0</td>\n",
              "      <td>0</td>\n",
              "      <td>2</td>\n",
              "      <td>1</td>\n",
              "      <td>1</td>\n",
              "    </tr>\n",
              "  </tbody>\n",
              "</table>\n",
              "<p>7008 rows × 13 columns</p>\n",
              "</div>"
            ],
            "text/plain": [
              "     Rented Bike Count Hour Temperature(°C) Humidity(%) Wind speed (m/s)  \\\n",
              "0                 1007   19             2.9          26              1.1   \n",
              "1                  308   11            -0.7          45              1.5   \n",
              "2                 1106    9             8.6          50              0.8   \n",
              "3                  306   22            -3.6          46              1.3   \n",
              "4                  188    8             5.1          83              0.9   \n",
              "...                ...  ...             ...         ...              ...   \n",
              "7003                78   10            18.4          96                2   \n",
              "7004              2092   18            36.2          45                2   \n",
              "7005              1101   17             4.9          41              3.3   \n",
              "7006               938   13            29.4          42              1.7   \n",
              "7007              2266   17            27.4          44              1.7   \n",
              "\n",
              "     Visibility (10m) Dew point temperature(°C) Solar Radiation (MJ/m2)  \\\n",
              "0                2000                     -14.7                       0   \n",
              "1                1429                     -11.1                    0.76   \n",
              "2                1785                      -1.2                    1.13   \n",
              "3                1689                     -13.5                       0   \n",
              "4                 297                       2.4                       0   \n",
              "...               ...                       ...                     ...   \n",
              "7003             1124                      17.7                    0.32   \n",
              "7004             2000                      22.3                    0.65   \n",
              "7005             1985                      -7.2                    0.25   \n",
              "7006              689                      15.1                     3.1   \n",
              "7007             2000                        14                    1.17   \n",
              "\n",
              "     Rainfall(mm) Snowfall (cm) Seasons Holiday Functioning Day  \n",
              "0               0             0       0       1               1  \n",
              "1               0             0       3       1               1  \n",
              "2               0             0       0       1               1  \n",
              "3               0             0       3       1               1  \n",
              "4               0             0       3       1               1  \n",
              "...           ...           ...     ...     ...             ...  \n",
              "7003            1             0       0       1               1  \n",
              "7004            0             0       2       1               1  \n",
              "7005            0             0       0       1               1  \n",
              "7006            0             0       2       1               1  \n",
              "7007            0             0       2       1               1  \n",
              "\n",
              "[7008 rows x 13 columns]"
            ]
          },
          "metadata": {
            "tags": []
          },
          "execution_count": 99
        }
      ]
    },
    {
      "cell_type": "code",
      "metadata": {
        "id": "Cf8lQrOGzsDl"
      },
      "source": [
        "# making the input and target features\r\n",
        "y = db['Rented Bike Count'].values\r\n",
        "X = db.drop(['Rented Bike Count'], axis = 1)"
      ],
      "execution_count": null,
      "outputs": []
    },
    {
      "cell_type": "code",
      "metadata": {
        "colab": {
          "base_uri": "https://localhost:8080/",
          "height": 416
        },
        "id": "Gi_Z2yS1ugVi",
        "outputId": "66c6a73b-c7b2-429a-aace-2cf485843140"
      },
      "source": [
        "X"
      ],
      "execution_count": null,
      "outputs": [
        {
          "output_type": "execute_result",
          "data": {
            "text/html": [
              "<div>\n",
              "<style scoped>\n",
              "    .dataframe tbody tr th:only-of-type {\n",
              "        vertical-align: middle;\n",
              "    }\n",
              "\n",
              "    .dataframe tbody tr th {\n",
              "        vertical-align: top;\n",
              "    }\n",
              "\n",
              "    .dataframe thead th {\n",
              "        text-align: right;\n",
              "    }\n",
              "</style>\n",
              "<table border=\"1\" class=\"dataframe\">\n",
              "  <thead>\n",
              "    <tr style=\"text-align: right;\">\n",
              "      <th></th>\n",
              "      <th>Hour</th>\n",
              "      <th>Temperature(°C)</th>\n",
              "      <th>Humidity(%)</th>\n",
              "      <th>Wind speed (m/s)</th>\n",
              "      <th>Visibility (10m)</th>\n",
              "      <th>Dew point temperature(°C)</th>\n",
              "      <th>Solar Radiation (MJ/m2)</th>\n",
              "      <th>Rainfall(mm)</th>\n",
              "      <th>Snowfall (cm)</th>\n",
              "      <th>Seasons</th>\n",
              "      <th>Holiday</th>\n",
              "      <th>Functioning Day</th>\n",
              "    </tr>\n",
              "  </thead>\n",
              "  <tbody>\n",
              "    <tr>\n",
              "      <th>0</th>\n",
              "      <td>19</td>\n",
              "      <td>2.9</td>\n",
              "      <td>26</td>\n",
              "      <td>1.1</td>\n",
              "      <td>2000</td>\n",
              "      <td>-14.7</td>\n",
              "      <td>0</td>\n",
              "      <td>0</td>\n",
              "      <td>0</td>\n",
              "      <td>0</td>\n",
              "      <td>1</td>\n",
              "      <td>1</td>\n",
              "    </tr>\n",
              "    <tr>\n",
              "      <th>1</th>\n",
              "      <td>11</td>\n",
              "      <td>-0.7</td>\n",
              "      <td>45</td>\n",
              "      <td>1.5</td>\n",
              "      <td>1429</td>\n",
              "      <td>-11.1</td>\n",
              "      <td>0.76</td>\n",
              "      <td>0</td>\n",
              "      <td>0</td>\n",
              "      <td>3</td>\n",
              "      <td>1</td>\n",
              "      <td>1</td>\n",
              "    </tr>\n",
              "    <tr>\n",
              "      <th>2</th>\n",
              "      <td>9</td>\n",
              "      <td>8.6</td>\n",
              "      <td>50</td>\n",
              "      <td>0.8</td>\n",
              "      <td>1785</td>\n",
              "      <td>-1.2</td>\n",
              "      <td>1.13</td>\n",
              "      <td>0</td>\n",
              "      <td>0</td>\n",
              "      <td>0</td>\n",
              "      <td>1</td>\n",
              "      <td>1</td>\n",
              "    </tr>\n",
              "    <tr>\n",
              "      <th>3</th>\n",
              "      <td>22</td>\n",
              "      <td>-3.6</td>\n",
              "      <td>46</td>\n",
              "      <td>1.3</td>\n",
              "      <td>1689</td>\n",
              "      <td>-13.5</td>\n",
              "      <td>0</td>\n",
              "      <td>0</td>\n",
              "      <td>0</td>\n",
              "      <td>3</td>\n",
              "      <td>1</td>\n",
              "      <td>1</td>\n",
              "    </tr>\n",
              "    <tr>\n",
              "      <th>4</th>\n",
              "      <td>8</td>\n",
              "      <td>5.1</td>\n",
              "      <td>83</td>\n",
              "      <td>0.9</td>\n",
              "      <td>297</td>\n",
              "      <td>2.4</td>\n",
              "      <td>0</td>\n",
              "      <td>0</td>\n",
              "      <td>0</td>\n",
              "      <td>3</td>\n",
              "      <td>1</td>\n",
              "      <td>1</td>\n",
              "    </tr>\n",
              "    <tr>\n",
              "      <th>...</th>\n",
              "      <td>...</td>\n",
              "      <td>...</td>\n",
              "      <td>...</td>\n",
              "      <td>...</td>\n",
              "      <td>...</td>\n",
              "      <td>...</td>\n",
              "      <td>...</td>\n",
              "      <td>...</td>\n",
              "      <td>...</td>\n",
              "      <td>...</td>\n",
              "      <td>...</td>\n",
              "      <td>...</td>\n",
              "    </tr>\n",
              "    <tr>\n",
              "      <th>7003</th>\n",
              "      <td>10</td>\n",
              "      <td>18.4</td>\n",
              "      <td>96</td>\n",
              "      <td>2</td>\n",
              "      <td>1124</td>\n",
              "      <td>17.7</td>\n",
              "      <td>0.32</td>\n",
              "      <td>1</td>\n",
              "      <td>0</td>\n",
              "      <td>0</td>\n",
              "      <td>1</td>\n",
              "      <td>1</td>\n",
              "    </tr>\n",
              "    <tr>\n",
              "      <th>7004</th>\n",
              "      <td>18</td>\n",
              "      <td>36.2</td>\n",
              "      <td>45</td>\n",
              "      <td>2</td>\n",
              "      <td>2000</td>\n",
              "      <td>22.3</td>\n",
              "      <td>0.65</td>\n",
              "      <td>0</td>\n",
              "      <td>0</td>\n",
              "      <td>2</td>\n",
              "      <td>1</td>\n",
              "      <td>1</td>\n",
              "    </tr>\n",
              "    <tr>\n",
              "      <th>7005</th>\n",
              "      <td>17</td>\n",
              "      <td>4.9</td>\n",
              "      <td>41</td>\n",
              "      <td>3.3</td>\n",
              "      <td>1985</td>\n",
              "      <td>-7.2</td>\n",
              "      <td>0.25</td>\n",
              "      <td>0</td>\n",
              "      <td>0</td>\n",
              "      <td>0</td>\n",
              "      <td>1</td>\n",
              "      <td>1</td>\n",
              "    </tr>\n",
              "    <tr>\n",
              "      <th>7006</th>\n",
              "      <td>13</td>\n",
              "      <td>29.4</td>\n",
              "      <td>42</td>\n",
              "      <td>1.7</td>\n",
              "      <td>689</td>\n",
              "      <td>15.1</td>\n",
              "      <td>3.1</td>\n",
              "      <td>0</td>\n",
              "      <td>0</td>\n",
              "      <td>2</td>\n",
              "      <td>1</td>\n",
              "      <td>1</td>\n",
              "    </tr>\n",
              "    <tr>\n",
              "      <th>7007</th>\n",
              "      <td>17</td>\n",
              "      <td>27.4</td>\n",
              "      <td>44</td>\n",
              "      <td>1.7</td>\n",
              "      <td>2000</td>\n",
              "      <td>14</td>\n",
              "      <td>1.17</td>\n",
              "      <td>0</td>\n",
              "      <td>0</td>\n",
              "      <td>2</td>\n",
              "      <td>1</td>\n",
              "      <td>1</td>\n",
              "    </tr>\n",
              "  </tbody>\n",
              "</table>\n",
              "<p>7008 rows × 12 columns</p>\n",
              "</div>"
            ],
            "text/plain": [
              "     Hour Temperature(°C) Humidity(%) Wind speed (m/s) Visibility (10m)  \\\n",
              "0      19             2.9          26              1.1             2000   \n",
              "1      11            -0.7          45              1.5             1429   \n",
              "2       9             8.6          50              0.8             1785   \n",
              "3      22            -3.6          46              1.3             1689   \n",
              "4       8             5.1          83              0.9              297   \n",
              "...   ...             ...         ...              ...              ...   \n",
              "7003   10            18.4          96                2             1124   \n",
              "7004   18            36.2          45                2             2000   \n",
              "7005   17             4.9          41              3.3             1985   \n",
              "7006   13            29.4          42              1.7              689   \n",
              "7007   17            27.4          44              1.7             2000   \n",
              "\n",
              "     Dew point temperature(°C) Solar Radiation (MJ/m2) Rainfall(mm)  \\\n",
              "0                        -14.7                       0            0   \n",
              "1                        -11.1                    0.76            0   \n",
              "2                         -1.2                    1.13            0   \n",
              "3                        -13.5                       0            0   \n",
              "4                          2.4                       0            0   \n",
              "...                        ...                     ...          ...   \n",
              "7003                      17.7                    0.32            1   \n",
              "7004                      22.3                    0.65            0   \n",
              "7005                      -7.2                    0.25            0   \n",
              "7006                      15.1                     3.1            0   \n",
              "7007                        14                    1.17            0   \n",
              "\n",
              "     Snowfall (cm) Seasons Holiday Functioning Day  \n",
              "0                0       0       1               1  \n",
              "1                0       3       1               1  \n",
              "2                0       0       1               1  \n",
              "3                0       3       1               1  \n",
              "4                0       3       1               1  \n",
              "...            ...     ...     ...             ...  \n",
              "7003             0       0       1               1  \n",
              "7004             0       2       1               1  \n",
              "7005             0       0       1               1  \n",
              "7006             0       2       1               1  \n",
              "7007             0       2       1               1  \n",
              "\n",
              "[7008 rows x 12 columns]"
            ]
          },
          "metadata": {
            "tags": []
          },
          "execution_count": 98
        }
      ]
    },
    {
      "cell_type": "code",
      "metadata": {
        "colab": {
          "base_uri": "https://localhost:8080/"
        },
        "id": "u7PokZ8Cayku",
        "outputId": "66f8e46e-199d-41e5-c634-8be879538f45"
      },
      "source": [
        "y"
      ],
      "execution_count": null,
      "outputs": [
        {
          "output_type": "execute_result",
          "data": {
            "text/plain": [
              "array([1007, 308, 1106, ..., 1101, 938, 2266], dtype=object)"
            ]
          },
          "metadata": {
            "tags": []
          },
          "execution_count": 100
        }
      ]
    },
    {
      "cell_type": "code",
      "metadata": {
        "id": "s6-ggOdgc2vZ"
      },
      "source": [
        "from sklearn.model_selection import train_test_split\r\n",
        "X_train, X_test, y_train, y_test = train_test_split(X, y, test_size = 0.2, random_state=310)"
      ],
      "execution_count": null,
      "outputs": []
    },
    {
      "cell_type": "code",
      "metadata": {
        "id": "0QAnu0JpdB5N"
      },
      "source": [
        "def MAPE(Y_est,Y):\r\n",
        "    ind = Y != 0 #Remueve los elementos que son cero en la variable deseada\r\n",
        "    N = np.size(Y[ind])\r\n",
        "    mape = np.sum(abs((Y_est[ind].reshape(N,1) - Y[ind].reshape(N,1))/(Y[ind].reshape(N,1)+np.finfo(np.float).eps)))/N\r\n",
        "    return mape"
      ],
      "execution_count": null,
      "outputs": []
    },
    {
      "cell_type": "code",
      "metadata": {
        "id": "zCNqT2QqdFV6"
      },
      "source": [
        "from sklearn.linear_model import LinearRegression"
      ],
      "execution_count": null,
      "outputs": []
    },
    {
      "cell_type": "markdown",
      "metadata": {
        "id": "hmTCzuFBdMqs"
      },
      "source": [
        "# Regresión Múltiple"
      ]
    },
    {
      "cell_type": "code",
      "metadata": {
        "colab": {
          "base_uri": "https://localhost:8080/"
        },
        "id": "nPyY9zZXdHVQ",
        "outputId": "7c2b9681-2ef2-4c84-b125-ca9f3fdbaf5b"
      },
      "source": [
        "lr_multiple = LinearRegression()\r\n",
        "# fitting the model with the training dataset\r\n",
        "lr_multiple.fit(X_train, y_train)\r\n",
        "# predicting the values\r\n",
        "predicted_value = lr_multiple.predict(X_test)\r\n",
        "print('Precisión del modelo:')\r\n",
        "\r\n",
        "\r\n",
        "# calculating the accuracy\r\n",
        "rmse_after_cleaning = mean_squared_error(predicted_value, y_test)\r\n",
        "mape= MAPE(predicted_value, y_test)\r\n",
        "\r\n",
        "print('RSME: ', np.sqrt(rmse_after_cleaning))\r\n",
        "print('SME: ', rmse_after_cleaning)\r\n",
        "print('MAPE: ', mape)"
      ],
      "execution_count": null,
      "outputs": [
        {
          "output_type": "stream",
          "text": [
            "Precisión del modelo:\n",
            "RSME:  438.97879256967383\n",
            "SME:  192702.38032592874\n",
            "MAPE:  1.5146317906912403\n"
          ],
          "name": "stdout"
        }
      ]
    },
    {
      "cell_type": "markdown",
      "metadata": {
        "id": "x7LF3kqxdpew"
      },
      "source": [
        "# Random Forest"
      ]
    },
    {
      "cell_type": "code",
      "metadata": {
        "id": "5shd4KdDdJ4s"
      },
      "source": [
        "from sklearn.ensemble import RandomForestRegressor"
      ],
      "execution_count": null,
      "outputs": []
    },
    {
      "cell_type": "code",
      "metadata": {
        "colab": {
          "base_uri": "https://localhost:8080/"
        },
        "id": "5jeJMCfKdpBZ",
        "outputId": "338c441b-d4ed-4a70-89fe-f512611c217c"
      },
      "source": [
        "parameters = {\r\n",
        "            'n_estimators' : [100,1000,1100],\r\n",
        "            'max_depth' : [15,18,20]\r\n",
        "             }\r\n",
        "grid_search_cv = GridSearchCV(RandomForestRegressor(), parameters)\r\n",
        "grid_search_cv.fit(X_train, y_train)"
      ],
      "execution_count": null,
      "outputs": [
        {
          "output_type": "execute_result",
          "data": {
            "text/plain": [
              "GridSearchCV(cv=None, error_score=nan,\n",
              "             estimator=RandomForestRegressor(bootstrap=True, ccp_alpha=0.0,\n",
              "                                             criterion='mse', max_depth=None,\n",
              "                                             max_features='auto',\n",
              "                                             max_leaf_nodes=None,\n",
              "                                             max_samples=None,\n",
              "                                             min_impurity_decrease=0.0,\n",
              "                                             min_impurity_split=None,\n",
              "                                             min_samples_leaf=1,\n",
              "                                             min_samples_split=2,\n",
              "                                             min_weight_fraction_leaf=0.0,\n",
              "                                             n_estimators=100, n_jobs=None,\n",
              "                                             oob_score=False, random_state=None,\n",
              "                                             verbose=0, warm_start=False),\n",
              "             iid='deprecated', n_jobs=None,\n",
              "             param_grid={'max_depth': [15, 18, 20],\n",
              "                         'n_estimators': [100, 1000, 1100]},\n",
              "             pre_dispatch='2*n_jobs', refit=True, return_train_score=False,\n",
              "             scoring=None, verbose=0)"
            ]
          },
          "metadata": {
            "tags": []
          },
          "execution_count": 114
        }
      ]
    },
    {
      "cell_type": "code",
      "metadata": {
        "colab": {
          "base_uri": "https://localhost:8080/"
        },
        "id": "hzH2vDDReNr-",
        "outputId": "6fd8fa41-5ebd-49cf-ebfb-4f144cb29b26"
      },
      "source": [
        "grid_search_cv.best_params_"
      ],
      "execution_count": null,
      "outputs": [
        {
          "output_type": "execute_result",
          "data": {
            "text/plain": [
              "{'max_depth': 18, 'n_estimators': 1000}"
            ]
          },
          "metadata": {
            "tags": []
          },
          "execution_count": 115
        }
      ]
    },
    {
      "cell_type": "code",
      "metadata": {
        "colab": {
          "base_uri": "https://localhost:8080/"
        },
        "id": "ogK-FsRLjI2p",
        "outputId": "f904bfa2-4257-4192-b189-0ea4fffa9aa1"
      },
      "source": [
        "rf = RandomForestRegressor(n_estimators=1100,\r\n",
        "                          max_depth=15)\r\n",
        "\r\n",
        "# fitting the model with the training dataset\r\n",
        "rf.fit(X_train, y_train)\r\n",
        "# predicting the values\r\n",
        "predicted_value = rf.predict(X_test)\r\n",
        "\r\n",
        "# calculating the accuracy\r\n",
        "rmse_after_cleaning = mean_squared_error(predicted_value, y_test)\r\n",
        "mape= MAPE(predicted_value, y_test)\r\n",
        "\r\n",
        "print('RSME: ', np.sqrt(rmse_after_cleaning))\r\n",
        "print('SME: ', rmse_after_cleaning)\r\n",
        "print('MAPE: ', mape)"
      ],
      "execution_count": null,
      "outputs": [
        {
          "output_type": "stream",
          "text": [
            "RSME:  237.39021523572663\n",
            "SME:  56354.11428966461\n",
            "MAPE:  0.5148131035101623\n"
          ],
          "name": "stdout"
        }
      ]
    },
    {
      "cell_type": "code",
      "metadata": {
        "colab": {
          "base_uri": "https://localhost:8080/"
        },
        "id": "4Z4dRIHmjLbe",
        "outputId": "42da7b5f-4a74-4b9e-dee3-48a4e209852a"
      },
      "source": [
        "X_test.isnull().sum()"
      ],
      "execution_count": null,
      "outputs": [
        {
          "output_type": "execute_result",
          "data": {
            "text/plain": [
              "Hour                         0\n",
              "Temperature(°C)              0\n",
              "Humidity(%)                  0\n",
              "Wind speed (m/s)             0\n",
              "Visibility (10m)             0\n",
              "Dew point temperature(°C)    0\n",
              "Solar Radiation (MJ/m2)      0\n",
              "Rainfall(mm)                 0\n",
              "Snowfall (cm)                0\n",
              "Seasons                      0\n",
              "Holiday                      0\n",
              "Functioning Day              0\n",
              "dtype: int64"
            ]
          },
          "metadata": {
            "tags": []
          },
          "execution_count": 117
        }
      ]
    },
    {
      "cell_type": "code",
      "metadata": {
        "id": "RD6-u_8ljkNg"
      },
      "source": [
        "SalePriceRF = rf.predict(X_test)"
      ],
      "execution_count": null,
      "outputs": []
    },
    {
      "cell_type": "code",
      "metadata": {
        "id": "3Sd8z8OFjmdt"
      },
      "source": [
        ""
      ],
      "execution_count": null,
      "outputs": []
    },
    {
      "cell_type": "markdown",
      "metadata": {
        "id": "vQLoR8VEj5HP"
      },
      "source": [
        "# Redes Neuronales Artificiales"
      ]
    },
    {
      "cell_type": "code",
      "metadata": {
        "id": "wjoTxVgAjpBR"
      },
      "source": [
        "from sklearn.neural_network import MLPRegressor"
      ],
      "execution_count": null,
      "outputs": []
    },
    {
      "cell_type": "code",
      "metadata": {
        "colab": {
          "base_uri": "https://localhost:8080/"
        },
        "id": "EVSggON9j4Mz",
        "outputId": "7d0c0ca7-934c-468e-dcef-7531d1701d3b"
      },
      "source": [
        "parameters = {\r\n",
        "            'random_state' : [1,2,3,4,5,6,7,8,9,10],\r\n",
        "            'max_iter' : [100, 200, 300, 400, 500],\r\n",
        "            'activation':['identity', 'logistic', 'tanh', 'relu'],\r\n",
        "            #'solver' : ['lbfgs', 'sgd', 'adam'],\r\n",
        "            'learning_rate' :['constant', 'invscaling', 'adaptive']\r\n",
        "             }\r\n",
        "grid_search_cv = GridSearchCV(MLPRegressor(), parameters)\r\n",
        "grid_search_cv.fit(X_train, y_train)"
      ],
      "execution_count": null,
      "outputs": [
        {
          "output_type": "execute_result",
          "data": {
            "text/plain": [
              "GridSearchCV(cv=None, error_score=nan,\n",
              "             estimator=MLPRegressor(activation='relu', alpha=0.0001,\n",
              "                                    batch_size='auto', beta_1=0.9, beta_2=0.999,\n",
              "                                    early_stopping=False, epsilon=1e-08,\n",
              "                                    hidden_layer_sizes=(100,),\n",
              "                                    learning_rate='constant',\n",
              "                                    learning_rate_init=0.001, max_fun=15000,\n",
              "                                    max_iter=200, momentum=0.9,\n",
              "                                    n_iter_no_change=10,\n",
              "                                    nesterovs_momentum=True, power_t=0.5,\n",
              "                                    random_sta...\n",
              "                                    validation_fraction=0.1, verbose=False,\n",
              "                                    warm_start=False),\n",
              "             iid='deprecated', n_jobs=None,\n",
              "             param_grid={'activation': ['identity', 'logistic', 'tanh', 'relu'],\n",
              "                         'learning_rate': ['constant', 'invscaling',\n",
              "                                           'adaptive'],\n",
              "                         'max_iter': [100, 200, 300, 400, 500],\n",
              "                         'random_state': [1, 2, 3, 4, 5, 6, 7, 8, 9, 10]},\n",
              "             pre_dispatch='2*n_jobs', refit=True, return_train_score=False,\n",
              "             scoring=None, verbose=0)"
            ]
          },
          "metadata": {
            "tags": []
          },
          "execution_count": 121
        }
      ]
    },
    {
      "cell_type": "code",
      "metadata": {
        "colab": {
          "base_uri": "https://localhost:8080/"
        },
        "id": "uosD9quZj-wf",
        "outputId": "7936ca29-3942-41e3-9f6d-ca03ae2d71b7"
      },
      "source": [
        "grid_search_cv.best_params_"
      ],
      "execution_count": null,
      "outputs": [
        {
          "output_type": "execute_result",
          "data": {
            "text/plain": [
              "{'activation': 'relu',\n",
              " 'learning_rate': 'constant',\n",
              " 'max_iter': 500,\n",
              " 'random_state': 4}"
            ]
          },
          "metadata": {
            "tags": []
          },
          "execution_count": 122
        }
      ]
    },
    {
      "cell_type": "code",
      "metadata": {
        "colab": {
          "base_uri": "https://localhost:8080/"
        },
        "id": "jxvrcZnD0Vgy",
        "outputId": "8fc52290-ed05-4174-e3b9-8950dd3d2a7e"
      },
      "source": [
        "regr = MLPRegressor(random_state=8, max_iter=300, activation = 'logistic', learning_rate = 'constant').fit(X_train, y_train)\r\n",
        "predicted_value = regr.predict(X_test)\r\n",
        "\r\n",
        "rmse_after_cleaning = np.sqrt(mean_squared_error(predicted_value, y_test))\r\n",
        "mape= MAPE(predicted_value, y_test)\r\n",
        "\r\n",
        "print('RSME: ', np.sqrt(rmse_after_cleaning))\r\n",
        "print('SME: ', rmse_after_cleaning)\r\n",
        "print('MAPE: ', mape)"
      ],
      "execution_count": null,
      "outputs": [
        {
          "output_type": "stream",
          "text": [
            "RSME:  25.199084206280027\n",
            "SME:  634.9938448351916\n",
            "MAPE:  1.1574398094512477\n"
          ],
          "name": "stdout"
        }
      ]
    },
    {
      "cell_type": "markdown",
      "metadata": {
        "id": "DSroItzX1tyg"
      },
      "source": [
        "# SVR"
      ]
    },
    {
      "cell_type": "code",
      "metadata": {
        "id": "hSca8P330YT_"
      },
      "source": [
        "\r\n",
        "from sklearn.svm import SVR"
      ],
      "execution_count": null,
      "outputs": []
    },
    {
      "cell_type": "code",
      "metadata": {
        "colab": {
          "base_uri": "https://localhost:8080/"
        },
        "id": "3CmutPZG1ZiL",
        "outputId": "98f25b21-5072-4828-d69b-62cae0dbbd9b"
      },
      "source": [
        "parameters = {\r\n",
        "            'epsilon': [0.004, 0.008, 0.0005, 0.0008]\r\n",
        "             }\r\n",
        "grid_search_cv = GridSearchCV(SVR(), parameters)\r\n",
        "grid_search_cv.fit(X_train, y_train)"
      ],
      "execution_count": null,
      "outputs": [
        {
          "output_type": "execute_result",
          "data": {
            "text/plain": [
              "GridSearchCV(cv=None, error_score=nan,\n",
              "             estimator=SVR(C=1.0, cache_size=200, coef0=0.0, degree=3,\n",
              "                           epsilon=0.1, gamma='scale', kernel='rbf',\n",
              "                           max_iter=-1, shrinking=True, tol=0.001,\n",
              "                           verbose=False),\n",
              "             iid='deprecated', n_jobs=None,\n",
              "             param_grid={'epsilon': [0.004, 0.008, 0.0005, 0.0008]},\n",
              "             pre_dispatch='2*n_jobs', refit=True, return_train_score=False,\n",
              "             scoring=None, verbose=0)"
            ]
          },
          "metadata": {
            "tags": []
          },
          "execution_count": 126
        }
      ]
    },
    {
      "cell_type": "code",
      "metadata": {
        "colab": {
          "base_uri": "https://localhost:8080/"
        },
        "id": "KxvoHeZl1dF7",
        "outputId": "3d4c44f5-47d4-441f-a6a9-0433e51beb45"
      },
      "source": [
        "# Support Vector Regressor\r\n",
        "svr = make_pipeline(RobustScaler(), SVR(kernel='rbf', epsilon= 0.008))\r\n",
        "\r\n",
        "# fitting the model with the training dataset\r\n",
        "svr.fit(X_train, y_train)\r\n",
        "# predicting the values\r\n",
        "predicted_value = svr.predict(X_test)\r\n",
        "\r\n",
        "# calculating the accuracy\r\n",
        "rmse_after_cleaning = mean_squared_error(predicted_value, y_test)\r\n",
        "mape= MAPE(predicted_value, y_test)\r\n",
        "\r\n",
        "print('RSME: ', np.sqrt(rmse_after_cleaning))\r\n",
        "print('SME: ', rmse_after_cleaning)\r\n",
        "print('MAPE: ', mape)"
      ],
      "execution_count": null,
      "outputs": [
        {
          "output_type": "stream",
          "text": [
            "RSME:  560.4920163553899\n",
            "SME:  314151.30039813067\n",
            "MAPE:  1.5221711117764964\n"
          ],
          "name": "stdout"
        }
      ]
    },
    {
      "cell_type": "code",
      "metadata": {
        "id": "EKwmm89-1qNt"
      },
      "source": [
        ""
      ],
      "execution_count": null,
      "outputs": []
    }
  ]
}